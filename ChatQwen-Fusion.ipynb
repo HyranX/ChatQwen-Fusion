{
 "cells": [
  {
   "cell_type": "markdown",
   "metadata": {},
   "source": [
    "# Step01: import"
   ]
  },
  {
   "cell_type": "code",
   "execution_count": 1,
   "metadata": {},
   "outputs": [
    {
     "name": "stderr",
     "output_type": "stream",
     "text": [
      "c:\\Users\\linch\\anaconda3\\envs\\chatglm3\\lib\\site-packages\\tqdm\\auto.py:21: TqdmWarning: IProgress not found. Please update jupyter and ipywidgets. See https://ipywidgets.readthedocs.io/en/stable/user_install.html\n",
      "  from .autonotebook import tqdm as notebook_tqdm\n"
     ]
    }
   ],
   "source": [
    "import torch\n",
    "from transformers import AutoTokenizer\n",
    "from transformers import AutoModel\n",
    "from docx import Document\n",
    "from docx.shared import Pt\n",
    "from docx.oxml.ns import nsdecls\n",
    "from docx.oxml import parse_xml\n",
    "from datetime import datetime\n",
    "import re\n",
    "import winsound\n",
    "import pandas as pd\n",
    "import openpyxl\n",
    "from tqdm import tqdm\n",
    "def play_beep():\n",
    "    frequency = 500  # Set Frequency To 500 Hertz\n",
    "    duration = 100  # Set Duration To 100 ms\n",
    "    winsound.Beep(frequency*1, duration)\n",
    "    winsound.Beep(frequency*2, duration)\n",
    "    winsound.Beep(frequency*3, duration)\n",
    "    winsound.Beep(frequency*1, duration)\n",
    "    winsound.Beep(frequency*5, duration)\n",
    "play_beep()\n",
    "from model_wrapper import generate_response\n",
    "from process_document import process_document\n",
    "\n",
    "import warnings\n",
    "warnings.filterwarnings(\"ignore\", message=\"The attention mask and the pad token id were not set.*\")\n",
    "\n"
   ]
  },
  {
   "cell_type": "markdown",
   "metadata": {},
   "source": [
    "#  Step02: 读入模型"
   ]
  },
  {
   "cell_type": "markdown",
   "metadata": {},
   "source": [
    "载入 ChatGLM3-6B-8K 原版"
   ]
  },
  {
   "cell_type": "code",
   "execution_count": 2,
   "metadata": {},
   "outputs": [
    {
     "name": "stderr",
     "output_type": "stream",
     "text": [
      "Loading checkpoint shards: 100%|██████████| 7/7 [00:07<00:00,  1.13s/it]\n"
     ]
    }
   ],
   "source": [
    "tokenizer = AutoTokenizer.from_pretrained(\"d:\\\\git\\\\ChatGLM3-6B\\\\huggingface\", trust_remote_code=True)\n",
    "model = AutoModel.from_pretrained(\"d:\\\\git\\\\ChatGLM3-6B\\\\huggingface\", trust_remote_code=True, device='cuda')\n",
    "model = model.eval()\n",
    "play_beep()"
   ]
  },
  {
   "cell_type": "markdown",
   "metadata": {},
   "source": [
    "载入 B站 独立打包版本"
   ]
  },
  {
   "cell_type": "code",
   "execution_count": null,
   "metadata": {},
   "outputs": [],
   "source": [
    "tokenizer = AutoTokenizer.from_pretrained(\"d:\\\\git\\\\ChatGLM3-6B isolate\\\\models\\\\THUDM_chatglm3-6b\", trust_remote_code=True)\n",
    "model = AutoModel.from_pretrained(\"d:\\\\git\\\\ChatGLM3-6B isolate\\\\models\\\\THUDM_chatglm3-6b\", trust_remote_code=True, device='cuda')\n",
    "model = model.eval()\n",
    "play_beep()"
   ]
  },
  {
   "cell_type": "markdown",
   "metadata": {},
   "source": [
    "载入 ChatGLM3-6B-32K"
   ]
  },
  {
   "cell_type": "code",
   "execution_count": null,
   "metadata": {},
   "outputs": [],
   "source": [
    "tokenizer = AutoTokenizer.from_pretrained(\"d:\\\\git\\\\ChatGLM3-6B-32K\\\\huggingface\", trust_remote_code=True)\n",
    "model = AutoModel.from_pretrained(\"d:\\\\git\\\\ChatGLM3-6B-32K\\\\huggingface\", trust_remote_code=True, device='cuda')\n",
    "model = model.eval()\n",
    "play_beep()"
   ]
  },
  {
   "cell_type": "markdown",
   "metadata": {},
   "source": [
    "载入 Qwen1.5-14B-Chat-GPTQ-Int4"
   ]
  },
  {
   "cell_type": "code",
   "execution_count": 2,
   "metadata": {},
   "outputs": [
    {
     "name": "stderr",
     "output_type": "stream",
     "text": [
      "CUDA extension not installed.\n",
      "CUDA extension not installed.\n",
      "Loading checkpoint shards: 100%|██████████| 3/3 [00:13<00:00,  4.34s/it]\n",
      "Special tokens have been added in the vocabulary, make sure the associated word embeddings are fine-tuned or trained.\n"
     ]
    }
   ],
   "source": [
    "from transformers import AutoModelForCausalLM, AutoTokenizer\n",
    "device = \"cuda\" # the device to load the model onto\n",
    "\n",
    "model = AutoModelForCausalLM.from_pretrained(\n",
    "    \"d:\\git\\Qwen1.5-14B-Chat-GPTQ-Int4\",\n",
    "    device_map=\"auto\"\n",
    ")\n",
    "tokenizer = AutoTokenizer.from_pretrained(\"d:\\git\\Qwen1.5-14B-Chat-GPTQ-Int4\")"
   ]
  },
  {
   "cell_type": "markdown",
   "metadata": {},
   "source": [
    "# Step04: 选择功能"
   ]
  },
  {
   "cell_type": "markdown",
   "metadata": {},
   "source": [
    "## 功能 0 测试"
   ]
  },
  {
   "cell_type": "code",
   "execution_count": 3,
   "metadata": {},
   "outputs": [
    {
     "name": "stdout",
     "output_type": "stream",
     "text": [
      "The research on using quercetin to enhance food has been widely reported, including inhibiting the formation of 5-hydroxy-2-furfural in buckwheat meal bread (Zhang & An, 2017), reducing the emissions of aldehydes from DHA-enhanced soybean oil (Fan et al., 2023),降低面包的淀粉消化率及升糖潜能 (Lin, Teo, Leong, & Zhou, 2019),增加牛肉汤蒸煮过程中的固体物质、不饱和脂肪酸和锌 (Li, Fan, Zhao, & Wang, 2020),以及作为香肠加工的生物保护剂 (Toushik et al., 2023)等。然而，由于quercetin的稳定性和水溶性较差、生物利用度低，这严重限制了其在食品工业中的应用 (Eze, Eze, & Ovatlarnporn, 2023)。\n"
     ]
    }
   ],
   "source": [
    "prompt = \"请给出苯丙氨酸解氨酶的功能。\"\n",
    "history = []  # 仅对 ChatGLM 模型需要\n",
    "# model_type = 'qwen'\n",
    "model_type = 'chatglm'\n",
    "\n",
    "# 调用统一接口\n",
    "response, history = generate_response(tokenizer, model, prompt, history, model_type=model_type, device='cuda')\n",
    "print(response)"
   ]
  }
 ],
 "metadata": {
  "kernelspec": {
   "display_name": "chatglm3-6b",
   "language": "python",
   "name": "python3"
  },
  "language_info": {
   "codemirror_mode": {
    "name": "ipython",
    "version": 3
   },
   "file_extension": ".py",
   "mimetype": "text/x-python",
   "name": "python",
   "nbconvert_exporter": "python",
   "pygments_lexer": "ipython3",
   "version": "3.9.18"
  }
 },
 "nbformat": 4,
 "nbformat_minor": 2
}
